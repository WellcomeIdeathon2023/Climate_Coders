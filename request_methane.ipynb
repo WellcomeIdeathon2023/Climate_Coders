{
 "cells": [
  {
   "attachments": {},
   "cell_type": "markdown",
   "metadata": {},
   "source": [
    "# Set up session"
   ]
  },
  {
   "cell_type": "code",
   "execution_count": 11,
   "metadata": {},
   "outputs": [],
   "source": [
    "import cdsapi "
   ]
  },
  {
   "attachments": {},
   "cell_type": "markdown",
   "metadata": {},
   "source": [
    "# Request sample data for a few days"
   ]
  },
  {
   "cell_type": "code",
   "execution_count": 13,
   "metadata": {},
   "outputs": [
    {
     "name": "stderr",
     "output_type": "stream",
     "text": [
      "2023-07-03 09:44:53,437 INFO Welcome to the CDS\n",
      "2023-07-03 09:44:53,440 INFO Sending request to https://cds.climate.copernicus.eu/api/v2/resources/satellite-methane\n",
      "2023-07-03 09:44:53,556 INFO Request is completed\n",
      "2023-07-03 09:44:53,557 INFO Downloading https://download-0018.copernicus-climate.eu/cache-compute-0018/cache/data4/dataset-satellite-methane-f225b11e-f96e-46d5-9e41-73e8e750b53d.zip to data/methane.zip (600.2K)\n",
      "2023-07-03 09:44:58,787 INFO Download rate 114.8K/s\n"
     ]
    },
    {
     "data": {
      "text/plain": [
       "Result(content_length=614598,content_type=application/zip,location=https://download-0018.copernicus-climate.eu/cache-compute-0018/cache/data4/dataset-satellite-methane-f225b11e-f96e-46d5-9e41-73e8e750b53d.zip)"
      ]
     },
     "execution_count": 13,
     "metadata": {},
     "output_type": "execute_result"
    }
   ],
   "source": [
    "import cdsapi\n",
    "\n",
    "c = cdsapi.Client()\n",
    "\n",
    "c.retrieve(\n",
    "    'satellite-methane',\n",
    "    {\n",
    "        'processing_level': 'level_2',\n",
    "        'variable': 'ch4',\n",
    "        'sensor_and_algorithm': 'iasi_metop_b_nlis',\n",
    "        'year': '2021',\n",
    "        'month': '01',\n",
    "        'day': [\n",
    "            '01', '02', '03',\n",
    "        ],\n",
    "        'version': '9.1',\n",
    "        'format': 'zip',\n",
    "    },\n",
    "    'data/methane.zip')"
   ]
  },
  {
   "attachments": {},
   "cell_type": "markdown",
   "metadata": {},
   "source": [
    "# Request all daily data"
   ]
  },
  {
   "cell_type": "code",
   "execution_count": 16,
   "metadata": {},
   "outputs": [
    {
     "name": "stderr",
     "output_type": "stream",
     "text": [
      "2023-07-03 14:38:37,462 INFO Welcome to the CDS\n",
      "2023-07-03 14:38:37,463 INFO Sending request to https://cds.climate.copernicus.eu/api/v2/resources/satellite-methane\n",
      "2023-07-03 14:38:37,513 INFO Request is queued\n",
      "2023-07-03 14:38:38,562 INFO Request is running\n",
      "2023-07-03 14:40:31,411 INFO Request is completed\n",
      "2023-07-03 14:40:31,415 INFO Downloading https://download-0016.copernicus-climate.eu/cache-compute-0016/cache/data2/dataset-satellite-methane-6d0ef39a-6859-49ac-b8b3-8b1052135fb0.zip to methane2021.zip (101.8M)\n",
      "2023-07-03 14:43:51,513 ERROR Download interupted: HTTPSConnectionPool(host='download-0016.copernicus-climate.eu', port=443): Read timed out.\n",
      "2023-07-03 14:43:51,515 ERROR Download incomplete, downloaded 22319104 byte(s) out of 106787878\n",
      "2023-07-03 14:43:51,515 WARNING Sleeping 10 seconds\n",
      "2023-07-03 14:44:01,529 WARNING Resuming download at byte 22319104\n",
      "2023-07-03 14:45:27,371 INFO Download rate 352.4K/s\n"
     ]
    },
    {
     "data": {
      "text/plain": [
       "Result(content_length=106787878,content_type=application/zip,location=https://download-0016.copernicus-climate.eu/cache-compute-0016/cache/data2/dataset-satellite-methane-6d0ef39a-6859-49ac-b8b3-8b1052135fb0.zip)"
      ]
     },
     "execution_count": 16,
     "metadata": {},
     "output_type": "execute_result"
    }
   ],
   "source": [
    "import cdsapi\n",
    "\n",
    "c = cdsapi.Client()\n",
    "\n",
    "c.retrieve(\n",
    "    'satellite-methane',\n",
    "    {\n",
    "        'processing_level': 'level_2',\n",
    "        'variable': 'ch4',\n",
    "        'sensor_and_algorithm': 'iasi_metop_b_nlis',\n",
    "        'year': [\n",
    "            #'2013', '2014', '2015',\n",
    "            #'2016', '2017', '2018',\n",
    "            '2019', #'2020', '2021',\n",
    "        ],\n",
    "        'month': [\n",
    "            '01', '02', '03',\n",
    "            '04', '05', '06',\n",
    "            '07', '08', '09',\n",
    "            '10', '11', '12',\n",
    "        ],\n",
    "        'day': [\n",
    "            '01', '02', '03',\n",
    "            '04', '05', '06',\n",
    "            '07', '08', '09',\n",
    "            '10', '11', '12',\n",
    "            '13', '14', '15',\n",
    "            '16', '17', '18',\n",
    "            '19', '20', '21',\n",
    "            '22', '23', '24',\n",
    "            '25', '26', '27',\n",
    "            '28', '29', '30',\n",
    "            '31',\n",
    "        ],\n",
    "        'version': '9.1',\n",
    "        'format': 'zip',\n",
    "    },\n",
    "    'data/methane2019.zip')"
   ]
  },
  {
   "attachments": {},
   "cell_type": "markdown",
   "metadata": {},
   "source": [
    "# Request monthly methane data since 2003"
   ]
  },
  {
   "cell_type": "code",
   "execution_count": null,
   "metadata": {},
   "outputs": [],
   "source": [
    "import cdsapi\n",
    "\n",
    "c = cdsapi.Client()\n",
    "\n",
    "c.retrieve(\n",
    "    'satellite-methane',\n",
    "    {\n",
    "        'processing_level': 'level_3',\n",
    "        'variable': 'xch4',\n",
    "        'sensor_and_algorithm': 'merged_obs4mips',\n",
    "        'version': '4.4',\n",
    "        'format': 'zip',\n",
    "    },\n",
    "    'download.zip')"
   ]
  }
 ],
 "metadata": {
  "kernelspec": {
   "display_name": "google.trends",
   "language": "python",
   "name": "python3"
  },
  "language_info": {
   "codemirror_mode": {
    "name": "ipython",
    "version": 3
   },
   "file_extension": ".py",
   "mimetype": "text/x-python",
   "name": "python",
   "nbconvert_exporter": "python",
   "pygments_lexer": "ipython3",
   "version": "3.10.7"
  },
  "orig_nbformat": 4
 },
 "nbformat": 4,
 "nbformat_minor": 2
}
