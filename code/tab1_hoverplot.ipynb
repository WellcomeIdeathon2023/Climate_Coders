{
 "cells": [
  {
   "cell_type": "code",
   "execution_count": 1,
   "metadata": {},
   "outputs": [
    {
     "name": "stderr",
     "output_type": "stream",
     "text": [
      "/var/folders/9x/mzy5y7vn06s46r3f60xxy7qw0000gp/T/ipykernel_49240/502458037.py:21: DtypeWarning: Columns (29,30) have mixed types. Specify dtype option on import or set low_memory=False.\n",
      "  final_daily2 = pd.read_csv('https://raw.githubusercontent.com/BenGoodair/Methane_Dashboard/main/combined_daily.csv')\n",
      "/var/folders/9x/mzy5y7vn06s46r3f60xxy7qw0000gp/T/ipykernel_49240/502458037.py:82: SettingWithCopyWarning: \n",
      "A value is trying to be set on a copy of a slice from a DataFrame.\n",
      "Try using .loc[row_indexer,col_indexer] = value instead\n",
      "\n",
      "See the caveats in the documentation: https://pandas.pydata.org/pandas-docs/stable/user_guide/indexing.html#returning-a-view-versus-a-copy\n",
      "  top_10_df['USA_Methane_Ranking'] = range(1, n+1)\n"
     ]
    },
    {
     "data": {
      "application/vnd.plotly.v1+json": {
       "config": {
        "plotlyServerURL": "https://plot.ly"
       },
       "data": [
        {
         "customdata": [
          [
           1,
           "Med-linus",
           "Jeans and co",
           2058.800048828125
          ],
          [
           2,
           "Hospice Caring Ltd",
           "Jeans and co",
           2039.7099609375
          ],
          [
           3,
           "Lo-Care",
           "BUB Energy",
           1947.27001953125
          ],
          [
           4,
           "Lo-Care",
           "BUB Energy",
           1940.2900390625
          ],
          [
           5,
           "CaroCare",
           "Seets Independent",
           1932.3399658203125
          ],
          [
           6,
           "Hospice Caring Ltd",
           "LTF",
           1931.8399658203125
          ],
          [
           7,
           "North West Health",
           "Jeans and co",
           1926.47998046875
          ],
          [
           8,
           "Healthy co",
           "Seets Independent",
           1924.5899658203125
          ],
          [
           9,
           "Hospice Caring Ltd",
           "LTF",
           1923.3299560546875
          ],
          [
           10,
           "CaroCare",
           "Devo Minds",
           1923.199951171875
          ],
          [
           11,
           "Nations Health",
           "Devo Minds",
           1922.989990234375
          ],
          [
           12,
           "Med-linus",
           "BUB Energy",
           1918.47998046875
          ],
          [
           13,
           "Well-care One",
           "Reves ltd",
           1918
          ],
          [
           14,
           "Healthy co",
           "BUB Energy",
           1917.8199462890625
          ],
          [
           15,
           "Charity Trust",
           "Reves ltd",
           1917.5400390625
          ],
          [
           16,
           "Lo-Care",
           "BUB Energy",
           1917.52001953125
          ],
          [
           17,
           "Lo-Care",
           "BUB Energy",
           1917.1800537109373
          ],
          [
           18,
           "Hospice Caring Ltd",
           "Woodward",
           1915.3499755859373
          ],
          [
           19,
           "Hospice Caring Ltd",
           "Reves ltd",
           1913.510009765625
          ],
          [
           20,
           "Healthy co",
           "BUB Energy",
           1913.4850463867188
          ],
          [
           21,
           "Healthy co",
           "BUB Energy",
           1913.0799560546875
          ],
          [
           22,
           "Med-linus",
           "BUB Energy",
           1912.6300048828125
          ],
          [
           23,
           "North West Health",
           "Spyte",
           1912.449951171875
          ],
          [
           24,
           "Lo-Care",
           "BUB Energy",
           1912.300048828125
          ],
          [
           25,
           "Healthy co",
           "Unique Oil",
           1912.219970703125
          ],
          [
           26,
           "Well Foundation",
           "Jeans and co",
           1912.199951171875
          ],
          [
           27,
           "North West Health",
           "Jeans and co",
           1912.02001953125
          ],
          [
           28,
           "Hospice Caring Ltd",
           "Seets Independent",
           1911.9160400390624
          ],
          [
           29,
           "Nations Health",
           "Jeans and co",
           1910.6700439453125
          ],
          [
           30,
           "Healthy co",
           "BUB Energy",
           1910.39501953125
          ],
          [
           31,
           "Healthy co",
           "BUB Energy",
           1910.199951171875
          ],
          [
           32,
           "North West Health",
           "Jeans and co",
           1909.47998046875
          ],
          [
           33,
           "Med-linus",
           "LTF",
           1909.2900390625
          ],
          [
           34,
           "North West Health",
           "Jeans and co",
           1908.7900390625
          ],
          [
           35,
           "Med-linus",
           "Seets Independent",
           1908.3299560546875
          ],
          [
           36,
           "CaroCare",
           "Leex",
           1908.2449951171875
          ],
          [
           37,
           "Capital Health",
           "Bards and Tennets",
           1908.1800537109373
          ],
          [
           38,
           "CaroCare",
           "Leex",
           1906.719970703125
          ],
          [
           39,
           "Capital Health",
           "Jeans and co",
           1906.5400390625
          ],
          [
           40,
           "North West Health",
           "Jeans and co",
           1906.5349731445312
          ],
          [
           41,
           "Healthy co",
           "Seets Independent",
           1906.2550048828125
          ],
          [
           42,
           "Med-linus",
           "Tinted",
           1906.1600341796875
          ],
          [
           43,
           "North West Health",
           "Spyte",
           1906.1500244140625
          ],
          [
           44,
           "Nations Health",
           "Devo Minds",
           1905.5
          ],
          [
           45,
           "Lo-Care",
           "BUB Energy",
           1905.47998046875
          ],
          [
           46,
           "North West Health",
           "Jeans and co",
           1905.1500244140625
          ],
          [
           47,
           "Capital Health",
           "Tinted",
           1905.0699462890625
          ],
          [
           48,
           "Med-linus",
           "Bards and Tennets",
           1905.050048828125
          ],
          [
           49,
           "Med-linus",
           "LTF",
           1904.7119873046875
          ],
          [
           50,
           "North West Health",
           "Jeans and co",
           1904.68994140625
          ],
          [
           51,
           "Healthy co",
           "BUB Energy",
           1904.4200439453125
          ],
          [
           52,
           "Med-linus",
           "LTF",
           1903.969970703125
          ],
          [
           53,
           "Healthy co",
           "BUB Energy",
           1903.8399658203125
          ],
          [
           54,
           "North West Health",
           "Jeans and co",
           1903.5999755859373
          ],
          [
           55,
           "Capital Health",
           "Reves ltd",
           1903.31005859375
          ],
          [
           56,
           "Healthy co",
           "COYG",
           1903.1800537109373
          ],
          [
           57,
           "Hospice Caring Ltd",
           "Jeans and co",
           1902.969970703125
          ],
          [
           58,
           "Hospice Caring Ltd",
           "LTF",
           1902.7900390625
          ],
          [
           59,
           "Trusted Lab co",
           "Seets Independent",
           1902.219970703125
          ],
          [
           60,
           "Well Foundation",
           "Jeans and co",
           1901.97998046875
          ],
          [
           61,
           "Lo-Care",
           "Bards and Tennets",
           1901.8299560546875
          ],
          [
           62,
           "Healthy co",
           "BUB Energy",
           1901.3300170898438
          ],
          [
           63,
           "Well-care One",
           "Reves ltd",
           1900.739990234375
          ],
          [
           64,
           "CaroCare",
           "Jeans and co",
           1900.3699951171875
          ],
          [
           65,
           "Nations Health",
           "Jeans and co",
           1900.22998046875
          ],
          [
           66,
           "Healthy co",
           "LTF",
           1900.0899658203125
          ],
          [
           67,
           "Hospice Caring Ltd",
           "Reves ltd",
           1899.8499755859373
          ],
          [
           68,
           "CaroCare",
           "Leex",
           1899.8299560546875
          ],
          [
           69,
           "Capital Health",
           "Bards and Tennets",
           1898.9000244140625
          ],
          [
           70,
           "CaroCare",
           "Leex",
           1898.6533203125
          ],
          [
           71,
           "Nations Health",
           "Jeans and co",
           1898.6500244140625
          ],
          [
           72,
           "CaroCare",
           "Devo Minds",
           1898.3499755859373
          ],
          [
           73,
           "Healthy co",
           "BUB Energy",
           1898.22998046875
          ],
          [
           74,
           "Med-linus",
           "Bards and Tennets",
           1898.0999755859373
          ],
          [
           75,
           "Well-care One",
           "Tinted",
           1897.8299560546875
          ],
          [
           76,
           "Capital Health",
           "Tinted",
           1897.6140380859374
          ],
          [
           77,
           "Healthy co",
           "BUB Energy",
           1897.56005859375
          ],
          [
           78,
           "Hospice Caring Ltd",
           "Seets Independent",
           1897.1500244140625
          ],
          [
           79,
           "North West Health",
           "Jeans and co",
           1897.02001953125
          ],
          [
           80,
           "Hospice Caring Ltd",
           "LTF",
           1896.780029296875
          ],
          [
           81,
           "Med-linus",
           "Woodward",
           1896.739990234375
          ],
          [
           82,
           "CaroCare",
           "Leex",
           1895.47998046875
          ],
          [
           83,
           "Healthy co",
           "BUB Energy",
           1895.31005859375
          ],
          [
           84,
           "Nations Health",
           "Woodward",
           1895.1133219401042
          ],
          [
           85,
           "Healthy co",
           "Seets Independent",
           1894.9750213623045
          ],
          [
           86,
           "CaroCare",
           "Cruxx",
           1894.9266357421875
          ],
          [
           87,
           "Charity Trust",
           "Tinted",
           1894.8800048828125
          ],
          [
           88,
           "Charity Trust",
           "Unique Oil",
           1894.56005859375
          ],
          [
           89,
           "Hospice Caring Ltd",
           "LTF",
           1894.550048828125
          ],
          [
           90,
           "Med-linus",
           "BUB Energy",
           1893.9599609375
          ],
          [
           91,
           "Med-linus",
           "LTF",
           1893.8199462890625
          ],
          [
           92,
           "Well-care One",
           "Reves ltd",
           1893.6700439453125
          ],
          [
           93,
           "Well-care One",
           "Bards and Tennets",
           1893.42333984375
          ],
          [
           94,
           "Lo-Care",
           "BUB Energy",
           1893.4000244140625
          ],
          [
           95,
           "North West Health",
           "Jeans and co",
           1893.2349853515625
          ],
          [
           96,
           "North West Health",
           "Jeans and co",
           1893.0599975585938
          ],
          [
           97,
           "Hospice Caring Ltd",
           "Spyte",
           1892.93994140625
          ],
          [
           98,
           "CaroCare",
           "Leex",
           1892.6599934895833
          ],
          [
           99,
           "Well-care One",
           "Bards and Tennets",
           1892.1600341796875
          ],
          [
           100,
           "Med-linus",
           "BUB Energy",
           1891.7650146484375
          ],
          [
           101,
           "Capital Health",
           "Xeros",
           1891.68994140625
          ],
          [
           102,
           "CaroCare",
           "Seets Independent",
           1891.5400390625
          ],
          [
           103,
           "Well-care One",
           "Reves ltd",
           1891.1500244140625
          ],
          [
           104,
           "CaroCare",
           "Seets Independent",
           1890.8299560546875
          ],
          [
           105,
           "North West Health",
           "Jeans and co",
           1890.75
          ],
          [
           106,
           "Hospice Caring Ltd",
           "Unique Oil",
           1890.6400146484373
          ],
          [
           107,
           "Med-linus",
           "LTF",
           1890.54599609375
          ],
          [
           108,
           "Capital Health",
           "Xeros",
           1890.43994140625
          ],
          [
           109,
           "Hospice Caring Ltd",
           "Xeros",
           1890.4300537109373
          ],
          [
           110,
           "Well-care One",
           "Tinted",
           1890.2949829101562
          ],
          [
           111,
           "Charity Trust",
           "Spyte",
           1890.0400390625
          ],
          [
           112,
           "Med-linus",
           "Bards and Tennets",
           1889.949951171875
          ],
          [
           113,
           "Nations Health",
           "LTF",
           1889.780029296875
          ],
          [
           114,
           "CaroCare",
           "Devo Minds",
           1889.68994140625
          ],
          [
           115,
           "Healthy co",
           "COYG",
           1889.6700439453125
          ],
          [
           116,
           "Well-care One",
           "Bards and Tennets",
           1889.4300537109375
          ],
          [
           117,
           "Nations Health",
           "Devo Minds",
           1889.4200439453125
          ],
          [
           118,
           "Healthy co",
           "COYG",
           1889.3900146484373
          ],
          [
           119,
           "Med-linus",
           "LTF",
           1889.1199951171875
          ],
          [
           120,
           "Hospice Caring Ltd",
           "LTF",
           1889.06005859375
          ],
          [
           121,
           "CaroCare",
           "COYG",
           1888.93994140625
          ],
          [
           122,
           "Med-linus",
           "LTF",
           1888.81005859375
          ]
         ],
         "hovertemplate": "Methane ranking: %{customdata[0]}<br>Nearest Hospital: %{customdata[1]}<br>Nearest Energy Plant: %{customdata[2]}<br>Methane particles (Mole fraction): %{customdata[3]}",
         "hovertext": [
          2058.800048828125,
          2039.7099609375,
          1947.27001953125,
          1940.2900390625,
          1932.3399658203125,
          1931.8399658203125,
          1926.47998046875,
          1924.5899658203125,
          1923.3299560546875,
          1923.199951171875,
          1922.989990234375,
          1918.47998046875,
          1918,
          1917.8199462890625,
          1917.5400390625,
          1917.52001953125,
          1917.1800537109373,
          1915.3499755859373,
          1913.510009765625,
          1913.4850463867188,
          1913.0799560546875,
          1912.6300048828125,
          1912.449951171875,
          1912.300048828125,
          1912.219970703125,
          1912.199951171875,
          1912.02001953125,
          1911.9160400390624,
          1910.6700439453125,
          1910.39501953125,
          1910.199951171875,
          1909.47998046875,
          1909.2900390625,
          1908.7900390625,
          1908.3299560546875,
          1908.2449951171875,
          1908.1800537109373,
          1906.719970703125,
          1906.5400390625,
          1906.5349731445312,
          1906.2550048828125,
          1906.1600341796875,
          1906.1500244140625,
          1905.5,
          1905.47998046875,
          1905.1500244140625,
          1905.0699462890625,
          1905.050048828125,
          1904.7119873046875,
          1904.68994140625,
          1904.4200439453125,
          1903.969970703125,
          1903.8399658203125,
          1903.5999755859373,
          1903.31005859375,
          1903.1800537109373,
          1902.969970703125,
          1902.7900390625,
          1902.219970703125,
          1901.97998046875,
          1901.8299560546875,
          1901.3300170898438,
          1900.739990234375,
          1900.3699951171875,
          1900.22998046875,
          1900.0899658203125,
          1899.8499755859373,
          1899.8299560546875,
          1898.9000244140625,
          1898.6533203125,
          1898.6500244140625,
          1898.3499755859373,
          1898.22998046875,
          1898.0999755859373,
          1897.8299560546875,
          1897.6140380859374,
          1897.56005859375,
          1897.1500244140625,
          1897.02001953125,
          1896.780029296875,
          1896.739990234375,
          1895.47998046875,
          1895.31005859375,
          1895.1133219401042,
          1894.9750213623045,
          1894.9266357421875,
          1894.8800048828125,
          1894.56005859375,
          1894.550048828125,
          1893.9599609375,
          1893.8199462890625,
          1893.6700439453125,
          1893.42333984375,
          1893.4000244140625,
          1893.2349853515625,
          1893.0599975585938,
          1892.93994140625,
          1892.6599934895833,
          1892.1600341796875,
          1891.7650146484375,
          1891.68994140625,
          1891.5400390625,
          1891.1500244140625,
          1890.8299560546875,
          1890.75,
          1890.6400146484373,
          1890.54599609375,
          1890.43994140625,
          1890.4300537109373,
          1890.2949829101562,
          1890.0400390625,
          1889.949951171875,
          1889.780029296875,
          1889.68994140625,
          1889.6700439453125,
          1889.4300537109375,
          1889.4200439453125,
          1889.3900146484373,
          1889.1199951171875,
          1889.06005859375,
          1888.93994140625,
          1888.81005859375
         ],
         "lat": [
          57,
          60,
          18,
          14,
          42,
          69,
          22,
          33,
          71,
          66,
          62,
          18,
          32,
          25,
          63,
          46,
          46,
          31,
          31,
          29,
          27,
          18,
          36,
          45,
          36,
          60,
          19,
          47,
          70,
          28,
          26,
          22,
          37,
          22,
          33,
          31,
          68,
          31,
          62,
          21,
          32,
          40,
          37,
          70,
          15,
          20,
          37,
          27,
          36,
          21,
          29,
          38,
          26,
          20,
          38,
          36,
          60,
          30,
          44,
          57,
          69,
          28,
          34,
          68,
          61,
          35,
          33,
          31,
          68,
          30,
          55,
          63,
          26,
          28,
          35,
          36,
          30,
          37,
          19,
          37,
          31,
          29,
          27,
          32,
          31,
          33,
          34,
          38,
          36,
          31,
          38,
          65,
          27,
          45,
          57,
          35,
          65,
          30,
          30,
          18,
          39,
          42,
          32,
          43,
          21,
          40,
          36,
          34,
          35,
          35,
          65,
          28,
          67,
          65,
          40,
          26,
          70,
          35,
          35,
          69,
          37,
          37
         ],
         "legendgroup": "",
         "lon": [
          -156,
          -142,
          146,
          145,
          -116,
          -157,
          -159,
          -80,
          -158,
          -167,
          -166,
          -65,
          -114,
          -81,
          -146,
          -67,
          -70,
          -99,
          -111,
          -81,
          -81,
          -66,
          -95,
          -71,
          -100,
          -135,
          -156,
          -112,
          -145,
          -82,
          -80,
          -160,
          -77,
          -158,
          -79,
          -105,
          -149,
          -100,
          -142,
          -156,
          -81,
          -102,
          -95,
          -160,
          146,
          -155,
          -88,
          -97,
          -77,
          -157,
          -82,
          -77,
          -81,
          -156,
          -104,
          -119,
          -138,
          -88,
          -107,
          -132,
          -148,
          -81,
          -111,
          -147,
          -143,
          -81,
          -111,
          -101,
          -151,
          -101,
          -163,
          -170,
          -82,
          -96,
          -90,
          -89,
          -81,
          -83,
          -155,
          -81,
          -97,
          -103,
          -80,
          -100,
          -82,
          -105,
          -88,
          -110,
          -80,
          -93,
          -78,
          -148,
          -98,
          -68,
          -153,
          -98,
          -149,
          -102,
          -99,
          -67,
          -88,
          -118,
          -115,
          -119,
          -158,
          -81,
          -76,
          -106,
          -110,
          -91,
          -154,
          -98,
          -141,
          -166,
          -120,
          -98,
          -161,
          -119,
          -76,
          -159,
          -119,
          -76
         ],
         "marker": {
          "color": "#636efa",
          "opacity": 0.8,
          "size": [
           15,
           13.001994883023016,
           4.166903715243919,
           3.5772499681127563,
           2.9250179138614802,
           2.884747010810135,
           2.4591040424456763,
           2.3118001762597107,
           2.214453864591716,
           2.204449850484198,
           2.188309108724871,
           1.8465578738777735,
           1.810769239044876,
           1.7973741749832577,
           1.7765835529210703,
           1.775098112669841,
           1.749904522616105,
           1.6153354068813388,
           1.4818988260675228,
           1.4801017636268803,
           1.450991171777443,
           1.4187705784264273,
           1.4059110320472095,
           1.3952198416166373,
           1.3895141704705714,
           1.3880883619764377,
           1.3752844474955763,
           1.3678943150481926,
           1.2798618098725603,
           1.26056359560077,
           1.246905568787871,
           1.1967125416719986,
           1.1835284063708602,
           1.148939899496651,
           1.117265217712664,
           1.1114322442620885,
           1.106977143530945,
           1.0076167674585195,
           0.9954813978225469,
           0.9951400855685655,
           0.9763079017698422,
           0.9699333268830802,
           0.9692618623032866,
           0.9258252363792872,
           0.9244927669927516,
           0.90257772831285,
           0.897272361176927,
           0.8959549161888897,
           0.8736208751100525,
           0.8721676864052135,
           0.8544098273813169,
           0.8249341080121222,
           0.8164522687211143,
           0.8008333011651522,
           0.7820325738248355,
           0.7736262278772211,
           0.7600740573472079,
           0.7484988163808282,
           0.7120235499710775,
           0.6967597886714991,
           0.6872461523196685,
           0.6557023004575917,
           0.6187978363317206,
           0.5958401709091076,
           0.5871904717805005,
           0.5785619571782593,
           0.5638222494471824,
           0.5625955652989558,
           0.5061169409219731,
           0.49130375042363233,
           0.4911063484138246,
           0.47319130457641945,
           0.4660580368226628,
           0.45835021615509064,
           0.44241023013905784,
           0.4297323684733777,
           0.42657254886593327,
           0.4026988276252505,
           0.3951778092114388,
           0.38135663804364517,
           0.37905879053020547,
           0.3079839869598326,
           0.2985927566640544,
           0.28778077829151605,
           0.28022042673372066,
           0.2775833353260441,
           0.27504582567577757,
           0.2577416793837115,
           0.25720335218966733,
           0.22580940831072444,
           0.2184624646678927,
           0.21064210815394174,
           0.19787692785280186,
           0.19667745602306644,
           0.1882220695170284,
           0.17932567404895122,
           0.17326407107897732,
           0.1592675512728302,
           0.13478240786513332,
           0.11594298364375556,
           0.11241726610907818,
           0.10543254459696227,
           0.08762633686883588,
           0.07344773851729182,
           0.06997285201446163,
           0.06523971166593855,
           0.06123844330064463,
           0.05677679801077387,
           0.05636372495731138,
           0.0507724853844145,
           0.04050056655817015,
           0.03696748892859845,
           0.030457452868312952,
           0.027095242454351996,
           0.026361644854775965,
           0.017801195235397718,
           0.017456876010503487,
           0.01643074836268027,
           0.0077465896099361935,
           0.005985649063672272,
           0.0027280056252480802,
           0
          ],
          "sizemode": "area",
          "sizeref": 0.016666666666666666
         },
         "mode": "markers",
         "name": "",
         "showlegend": false,
         "subplot": "mapbox",
         "type": "scattermapbox"
        }
       ],
       "layout": {
        "legend": {
         "itemsizing": "constant",
         "tracegroupgap": 0
        },
        "mapbox": {
         "center": {
          "lat": 39.8283,
          "lon": -98.5795
         },
         "domain": {
          "x": [
           0,
           1
          ],
          "y": [
           0,
           1
          ]
         },
         "style": "carto-positron",
         "zoom": 2
        },
        "margin": {
         "t": 60
        },
        "template": {
         "data": {
          "bar": [
           {
            "error_x": {
             "color": "#2a3f5f"
            },
            "error_y": {
             "color": "#2a3f5f"
            },
            "marker": {
             "line": {
              "color": "#E5ECF6",
              "width": 0.5
             },
             "pattern": {
              "fillmode": "overlay",
              "size": 10,
              "solidity": 0.2
             }
            },
            "type": "bar"
           }
          ],
          "barpolar": [
           {
            "marker": {
             "line": {
              "color": "#E5ECF6",
              "width": 0.5
             },
             "pattern": {
              "fillmode": "overlay",
              "size": 10,
              "solidity": 0.2
             }
            },
            "type": "barpolar"
           }
          ],
          "carpet": [
           {
            "aaxis": {
             "endlinecolor": "#2a3f5f",
             "gridcolor": "white",
             "linecolor": "white",
             "minorgridcolor": "white",
             "startlinecolor": "#2a3f5f"
            },
            "baxis": {
             "endlinecolor": "#2a3f5f",
             "gridcolor": "white",
             "linecolor": "white",
             "minorgridcolor": "white",
             "startlinecolor": "#2a3f5f"
            },
            "type": "carpet"
           }
          ],
          "choropleth": [
           {
            "colorbar": {
             "outlinewidth": 0,
             "ticks": ""
            },
            "type": "choropleth"
           }
          ],
          "contour": [
           {
            "colorbar": {
             "outlinewidth": 0,
             "ticks": ""
            },
            "colorscale": [
             [
              0,
              "#0d0887"
             ],
             [
              0.1111111111111111,
              "#46039f"
             ],
             [
              0.2222222222222222,
              "#7201a8"
             ],
             [
              0.3333333333333333,
              "#9c179e"
             ],
             [
              0.4444444444444444,
              "#bd3786"
             ],
             [
              0.5555555555555556,
              "#d8576b"
             ],
             [
              0.6666666666666666,
              "#ed7953"
             ],
             [
              0.7777777777777778,
              "#fb9f3a"
             ],
             [
              0.8888888888888888,
              "#fdca26"
             ],
             [
              1,
              "#f0f921"
             ]
            ],
            "type": "contour"
           }
          ],
          "contourcarpet": [
           {
            "colorbar": {
             "outlinewidth": 0,
             "ticks": ""
            },
            "type": "contourcarpet"
           }
          ],
          "heatmap": [
           {
            "colorbar": {
             "outlinewidth": 0,
             "ticks": ""
            },
            "colorscale": [
             [
              0,
              "#0d0887"
             ],
             [
              0.1111111111111111,
              "#46039f"
             ],
             [
              0.2222222222222222,
              "#7201a8"
             ],
             [
              0.3333333333333333,
              "#9c179e"
             ],
             [
              0.4444444444444444,
              "#bd3786"
             ],
             [
              0.5555555555555556,
              "#d8576b"
             ],
             [
              0.6666666666666666,
              "#ed7953"
             ],
             [
              0.7777777777777778,
              "#fb9f3a"
             ],
             [
              0.8888888888888888,
              "#fdca26"
             ],
             [
              1,
              "#f0f921"
             ]
            ],
            "type": "heatmap"
           }
          ],
          "heatmapgl": [
           {
            "colorbar": {
             "outlinewidth": 0,
             "ticks": ""
            },
            "colorscale": [
             [
              0,
              "#0d0887"
             ],
             [
              0.1111111111111111,
              "#46039f"
             ],
             [
              0.2222222222222222,
              "#7201a8"
             ],
             [
              0.3333333333333333,
              "#9c179e"
             ],
             [
              0.4444444444444444,
              "#bd3786"
             ],
             [
              0.5555555555555556,
              "#d8576b"
             ],
             [
              0.6666666666666666,
              "#ed7953"
             ],
             [
              0.7777777777777778,
              "#fb9f3a"
             ],
             [
              0.8888888888888888,
              "#fdca26"
             ],
             [
              1,
              "#f0f921"
             ]
            ],
            "type": "heatmapgl"
           }
          ],
          "histogram": [
           {
            "marker": {
             "pattern": {
              "fillmode": "overlay",
              "size": 10,
              "solidity": 0.2
             }
            },
            "type": "histogram"
           }
          ],
          "histogram2d": [
           {
            "colorbar": {
             "outlinewidth": 0,
             "ticks": ""
            },
            "colorscale": [
             [
              0,
              "#0d0887"
             ],
             [
              0.1111111111111111,
              "#46039f"
             ],
             [
              0.2222222222222222,
              "#7201a8"
             ],
             [
              0.3333333333333333,
              "#9c179e"
             ],
             [
              0.4444444444444444,
              "#bd3786"
             ],
             [
              0.5555555555555556,
              "#d8576b"
             ],
             [
              0.6666666666666666,
              "#ed7953"
             ],
             [
              0.7777777777777778,
              "#fb9f3a"
             ],
             [
              0.8888888888888888,
              "#fdca26"
             ],
             [
              1,
              "#f0f921"
             ]
            ],
            "type": "histogram2d"
           }
          ],
          "histogram2dcontour": [
           {
            "colorbar": {
             "outlinewidth": 0,
             "ticks": ""
            },
            "colorscale": [
             [
              0,
              "#0d0887"
             ],
             [
              0.1111111111111111,
              "#46039f"
             ],
             [
              0.2222222222222222,
              "#7201a8"
             ],
             [
              0.3333333333333333,
              "#9c179e"
             ],
             [
              0.4444444444444444,
              "#bd3786"
             ],
             [
              0.5555555555555556,
              "#d8576b"
             ],
             [
              0.6666666666666666,
              "#ed7953"
             ],
             [
              0.7777777777777778,
              "#fb9f3a"
             ],
             [
              0.8888888888888888,
              "#fdca26"
             ],
             [
              1,
              "#f0f921"
             ]
            ],
            "type": "histogram2dcontour"
           }
          ],
          "mesh3d": [
           {
            "colorbar": {
             "outlinewidth": 0,
             "ticks": ""
            },
            "type": "mesh3d"
           }
          ],
          "parcoords": [
           {
            "line": {
             "colorbar": {
              "outlinewidth": 0,
              "ticks": ""
             }
            },
            "type": "parcoords"
           }
          ],
          "pie": [
           {
            "automargin": true,
            "type": "pie"
           }
          ],
          "scatter": [
           {
            "fillpattern": {
             "fillmode": "overlay",
             "size": 10,
             "solidity": 0.2
            },
            "type": "scatter"
           }
          ],
          "scatter3d": [
           {
            "line": {
             "colorbar": {
              "outlinewidth": 0,
              "ticks": ""
             }
            },
            "marker": {
             "colorbar": {
              "outlinewidth": 0,
              "ticks": ""
             }
            },
            "type": "scatter3d"
           }
          ],
          "scattercarpet": [
           {
            "marker": {
             "colorbar": {
              "outlinewidth": 0,
              "ticks": ""
             }
            },
            "type": "scattercarpet"
           }
          ],
          "scattergeo": [
           {
            "marker": {
             "colorbar": {
              "outlinewidth": 0,
              "ticks": ""
             }
            },
            "type": "scattergeo"
           }
          ],
          "scattergl": [
           {
            "marker": {
             "colorbar": {
              "outlinewidth": 0,
              "ticks": ""
             }
            },
            "type": "scattergl"
           }
          ],
          "scattermapbox": [
           {
            "marker": {
             "colorbar": {
              "outlinewidth": 0,
              "ticks": ""
             }
            },
            "type": "scattermapbox"
           }
          ],
          "scatterpolar": [
           {
            "marker": {
             "colorbar": {
              "outlinewidth": 0,
              "ticks": ""
             }
            },
            "type": "scatterpolar"
           }
          ],
          "scatterpolargl": [
           {
            "marker": {
             "colorbar": {
              "outlinewidth": 0,
              "ticks": ""
             }
            },
            "type": "scatterpolargl"
           }
          ],
          "scatterternary": [
           {
            "marker": {
             "colorbar": {
              "outlinewidth": 0,
              "ticks": ""
             }
            },
            "type": "scatterternary"
           }
          ],
          "surface": [
           {
            "colorbar": {
             "outlinewidth": 0,
             "ticks": ""
            },
            "colorscale": [
             [
              0,
              "#0d0887"
             ],
             [
              0.1111111111111111,
              "#46039f"
             ],
             [
              0.2222222222222222,
              "#7201a8"
             ],
             [
              0.3333333333333333,
              "#9c179e"
             ],
             [
              0.4444444444444444,
              "#bd3786"
             ],
             [
              0.5555555555555556,
              "#d8576b"
             ],
             [
              0.6666666666666666,
              "#ed7953"
             ],
             [
              0.7777777777777778,
              "#fb9f3a"
             ],
             [
              0.8888888888888888,
              "#fdca26"
             ],
             [
              1,
              "#f0f921"
             ]
            ],
            "type": "surface"
           }
          ],
          "table": [
           {
            "cells": {
             "fill": {
              "color": "#EBF0F8"
             },
             "line": {
              "color": "white"
             }
            },
            "header": {
             "fill": {
              "color": "#C8D4E3"
             },
             "line": {
              "color": "white"
             }
            },
            "type": "table"
           }
          ]
         },
         "layout": {
          "annotationdefaults": {
           "arrowcolor": "#2a3f5f",
           "arrowhead": 0,
           "arrowwidth": 1
          },
          "autotypenumbers": "strict",
          "coloraxis": {
           "colorbar": {
            "outlinewidth": 0,
            "ticks": ""
           }
          },
          "colorscale": {
           "diverging": [
            [
             0,
             "#8e0152"
            ],
            [
             0.1,
             "#c51b7d"
            ],
            [
             0.2,
             "#de77ae"
            ],
            [
             0.3,
             "#f1b6da"
            ],
            [
             0.4,
             "#fde0ef"
            ],
            [
             0.5,
             "#f7f7f7"
            ],
            [
             0.6,
             "#e6f5d0"
            ],
            [
             0.7,
             "#b8e186"
            ],
            [
             0.8,
             "#7fbc41"
            ],
            [
             0.9,
             "#4d9221"
            ],
            [
             1,
             "#276419"
            ]
           ],
           "sequential": [
            [
             0,
             "#0d0887"
            ],
            [
             0.1111111111111111,
             "#46039f"
            ],
            [
             0.2222222222222222,
             "#7201a8"
            ],
            [
             0.3333333333333333,
             "#9c179e"
            ],
            [
             0.4444444444444444,
             "#bd3786"
            ],
            [
             0.5555555555555556,
             "#d8576b"
            ],
            [
             0.6666666666666666,
             "#ed7953"
            ],
            [
             0.7777777777777778,
             "#fb9f3a"
            ],
            [
             0.8888888888888888,
             "#fdca26"
            ],
            [
             1,
             "#f0f921"
            ]
           ],
           "sequentialminus": [
            [
             0,
             "#0d0887"
            ],
            [
             0.1111111111111111,
             "#46039f"
            ],
            [
             0.2222222222222222,
             "#7201a8"
            ],
            [
             0.3333333333333333,
             "#9c179e"
            ],
            [
             0.4444444444444444,
             "#bd3786"
            ],
            [
             0.5555555555555556,
             "#d8576b"
            ],
            [
             0.6666666666666666,
             "#ed7953"
            ],
            [
             0.7777777777777778,
             "#fb9f3a"
            ],
            [
             0.8888888888888888,
             "#fdca26"
            ],
            [
             1,
             "#f0f921"
            ]
           ]
          },
          "colorway": [
           "#636efa",
           "#EF553B",
           "#00cc96",
           "#ab63fa",
           "#FFA15A",
           "#19d3f3",
           "#FF6692",
           "#B6E880",
           "#FF97FF",
           "#FECB52"
          ],
          "font": {
           "color": "#2a3f5f"
          },
          "geo": {
           "bgcolor": "white",
           "lakecolor": "white",
           "landcolor": "#E5ECF6",
           "showlakes": true,
           "showland": true,
           "subunitcolor": "white"
          },
          "hoverlabel": {
           "align": "left"
          },
          "hovermode": "closest",
          "mapbox": {
           "style": "light"
          },
          "paper_bgcolor": "white",
          "plot_bgcolor": "#E5ECF6",
          "polar": {
           "angularaxis": {
            "gridcolor": "white",
            "linecolor": "white",
            "ticks": ""
           },
           "bgcolor": "#E5ECF6",
           "radialaxis": {
            "gridcolor": "white",
            "linecolor": "white",
            "ticks": ""
           }
          },
          "scene": {
           "xaxis": {
            "backgroundcolor": "#E5ECF6",
            "gridcolor": "white",
            "gridwidth": 2,
            "linecolor": "white",
            "showbackground": true,
            "ticks": "",
            "zerolinecolor": "white"
           },
           "yaxis": {
            "backgroundcolor": "#E5ECF6",
            "gridcolor": "white",
            "gridwidth": 2,
            "linecolor": "white",
            "showbackground": true,
            "ticks": "",
            "zerolinecolor": "white"
           },
           "zaxis": {
            "backgroundcolor": "#E5ECF6",
            "gridcolor": "white",
            "gridwidth": 2,
            "linecolor": "white",
            "showbackground": true,
            "ticks": "",
            "zerolinecolor": "white"
           }
          },
          "shapedefaults": {
           "line": {
            "color": "#2a3f5f"
           }
          },
          "ternary": {
           "aaxis": {
            "gridcolor": "white",
            "linecolor": "white",
            "ticks": ""
           },
           "baxis": {
            "gridcolor": "white",
            "linecolor": "white",
            "ticks": ""
           },
           "bgcolor": "#E5ECF6",
           "caxis": {
            "gridcolor": "white",
            "linecolor": "white",
            "ticks": ""
           }
          },
          "title": {
           "x": 0.05
          },
          "xaxis": {
           "automargin": true,
           "gridcolor": "white",
           "linecolor": "white",
           "ticks": "",
           "title": {
            "standoff": 15
           },
           "zerolinecolor": "white",
           "zerolinewidth": 2
          },
          "yaxis": {
           "automargin": true,
           "gridcolor": "white",
           "linecolor": "white",
           "ticks": "",
           "title": {
            "standoff": 15
           },
           "zerolinecolor": "white",
           "zerolinewidth": 2
          }
         }
        }
       }
      }
     },
     "metadata": {},
     "output_type": "display_data"
    }
   ],
   "source": [
    "from dash import Dash, State, html, dash_table, dcc, callback, Output, Input\n",
    "import pandas as pd\n",
    "\n",
    "\n",
    "import plotly.graph_objects as go\n",
    "import numpy as np\n",
    "from datetime import datetime, timedelta\n",
    "\n",
    "#import cdstoolbox as ct\n",
    "#import chart_studio.plotly as py\n",
    "\n",
    "import chart_studio.plotly as py\n",
    "import dash_bootstrap_components as dbc\n",
    "\n",
    "\n",
    "\n",
    "\n",
    "####Figure 2 - caro's mapppp#####\n",
    "\n",
    "# Read the CSV file\n",
    "final_daily2 = pd.read_csv('https://raw.githubusercontent.com/BenGoodair/Methane_Dashboard/main/combined_daily.csv')\n",
    "simulated = pd.read_csv('https://raw.githubusercontent.com/BenGoodair/Methane_Dashboard/main/simulated_data.csv')\n",
    "# Round 'lon_m' and 'lat_m' columns\n",
    "final_daily2['lon_m'] = final_daily2['lon_m'].round()\n",
    "final_daily2['lat_m'] = final_daily2['lat_m'].round()\n",
    "# Convert 'time' column to datetime\n",
    "final_daily2['date'] = pd.to_datetime(final_daily2['time']).dt.date\n",
    "# Group by 'date', 'lon_m', and 'lat_m', and calculate the mean of 'ch4'\n",
    "mean_ch4 = final_daily2.groupby(['date','lon_m', 'lat_m'])['ch4'].mean().reset_index()\n",
    "# Remove rows with missing values\n",
    "mean_ch4 = mean_ch4.dropna()\n",
    "\n",
    "#convert date to date column\n",
    "mean_ch4['date'] = pd.to_datetime(mean_ch4['date'])\n",
    "\n",
    "#order data by date\n",
    "mean_ch4.sort_values(by='date', ascending=False, inplace=True)\n",
    "#keep only most recent data for each lon and lat\n",
    "mean_ch4.drop_duplicates(subset=['lon_m', 'lat_m'], keep='first', inplace=True)\n",
    "#reset\n",
    "mean_ch4.reset_index(drop=True, inplace=True)\n",
    "\n",
    "import plotly.graph_objects as go\n",
    "from scipy.spatial import cKDTree\n",
    "\n",
    "import plotly.express as px\n",
    "import plotly.graph_objects as go\n",
    "\n",
    "# Create a Plotly choropleth map\n",
    "\n",
    "\n",
    "import plotly.graph_objects as go\n",
    "import plotly.express as px\n",
    "from scipy.spatial.distance import cdist\n",
    "import numpy as np\n",
    "\n",
    "hospitals = simulated[simulated['plant_or_hospital'] == \"Hospital\"]\n",
    "hospitals = hospitals.rename(columns={'latitude': 'lat'})\n",
    "hospitals = hospitals.rename(columns={'longitude': 'lon'})\n",
    "\n",
    "energy_plants = simulated[simulated['plant_or_hospital'] == \"Energy plant\"]\n",
    "energy_plants = energy_plants.rename(columns={'latitude': 'lat'})\n",
    "energy_plants = energy_plants.rename(columns={'longitude': 'lon'})\n",
    "\n",
    "import plotly.graph_objects as go\n",
    "import plotly.express as px\n",
    "import numpy as np\n",
    "from scipy.spatial import cKDTree\n",
    "\n",
    "\n",
    "df_sorted = mean_ch4.sort_values('ch4', ascending=False)\n",
    "\n",
    "# Calculate the number of rows representing the top 10%\n",
    "top_10_percent = int(len(df_sorted) * 0.1)\n",
    "\n",
    "# Slice the DataFrame to keep only the top rows\n",
    "top_10_df = df_sorted.head(top_10_percent)\n",
    "\n",
    "n = len(top_10_df)\n",
    "\n",
    "# Create a new column 'Ascending' with values from 1 to n\n",
    "top_10_df['USA_Methane_Ranking'] = range(1, n+1)\n",
    "\n",
    "top_10_df = top_10_df.rename(columns={'lat_m': 'lat'})\n",
    "top_10_df = top_10_df.rename(columns={'lon_m': 'lon'})\n",
    "\n",
    "\n",
    "from scipy.spatial.distance import cdist\n",
    "\n",
    "# Assuming 'hospitals' and 'top_10_df' are your DataFrames\n",
    "# Assuming 'hospitals' has columns 'Hospital Name', 'Latitude', and 'Longitude'\n",
    "# Assuming 'top_10_df' has columns 'Row ID', 'Latitude', and 'Longitude'\n",
    "\n",
    "# Create a helper function to find the nearest hospital for a given location\n",
    "def find_nearest_hospital(row, hospitals):\n",
    "    # Create a DataFrame with coordinates of the current row\n",
    "    coords = pd.DataFrame({'lat': [row['lat']], 'lon': [row['lon']]})\n",
    "\n",
    "    # Calculate the distances between the coordinates of the current row and all hospitals\n",
    "    distances = cdist(coords.values, hospitals[['lat', 'lon']].values, metric='euclidean')\n",
    "\n",
    "    # Find the index of the nearest hospital\n",
    "    nearest_index = distances.argmin()\n",
    "\n",
    "    # Return the name of the nearest hospital\n",
    "    return hospitals.iloc[nearest_index]['company_name']\n",
    "\n",
    "# Apply the helper function to each row in 'top_10_df'\n",
    "top_10_df['Nearest_Hospital'] = top_10_df.apply(lambda row: find_nearest_hospital(row, hospitals), axis=1)\n",
    "\n",
    "\n",
    "\n",
    "# Create a helper function to find the nearest hospital for a given location\n",
    "def find_nearest_plant(row, energy_plants):\n",
    "    # Create a DataFrame with coordinates of the current row\n",
    "    coords = pd.DataFrame({'lat': [row['lat']], 'lon': [row['lon']]})\n",
    "\n",
    "    # Calculate the distances between the coordinates of the current row and all hospitals\n",
    "    distances = cdist(coords.values, energy_plants[['lat', 'lon']].values, metric='euclidean')\n",
    "\n",
    "\n",
    "    # Find the index of the nearest hospital\n",
    "    nearest_index = distances.argmin()\n",
    "\n",
    "    # Return the name of the nearest hospital\n",
    "    return energy_plants.iloc[nearest_index]['company_name']\n",
    "\n",
    "# Apply the helper function to each row in 'top_10_df'\n",
    "top_10_df['Nearest_Energy_plant'] = top_10_df.apply(lambda row: find_nearest_plant(row, energy_plants), axis=1)\n",
    "\n",
    "\n",
    "\n",
    "\n",
    "\n",
    "min_value = top_10_df['ch4'].min()\n",
    "max_value = top_10_df['ch4'].max()\n",
    "scaled_values = ((top_10_df['ch4'] - min_value) / (max_value - min_value)) ** 1.2 * 15\n",
    "\n",
    "customdata = top_10_df[['USA_Methane_Ranking', 'Nearest_Hospital', 'Nearest_Energy_plant', 'ch4']].values.tolist()\n",
    "customdata = np.stack((top_10_df['USA_Methane_Ranking'], top_10_df['Nearest_Hospital'], top_10_df['Nearest_Energy_plant'], top_10_df['ch4']), axis=-1)\n",
    "\n",
    "\n",
    "# Create the scatter plot with scaled point sizes\n",
    "tab1_fig2 = px.scatter_mapbox(top_10_df, lat=\"lat\", lon=\"lon\", hover_name=\"ch4\",\n",
    "                         size=scaled_values,\n",
    "                         color_continuous_scale='viridis',\n",
    "                         mapbox_style=\"carto-positron\",\n",
    "                         zoom=2,\n",
    "                         center={'lat': 39.8283, 'lon': -98.5795},\n",
    "                         opacity=0.8, size_max=30,    \n",
    "                         custom_data=['USA_Methane_Ranking', 'Nearest_Hospital', 'Nearest_Energy_plant', 'ch4'])\n",
    "\n",
    "\n",
    "tab1_fig2.update_traces(hovertemplate='Methane ranking: %{customdata[0]}<br>Nearest Hospital: %{customdata[1]}<br>Nearest Energy Plant: %{customdata[2]}<br>Methane particles (Mole fraction): %{customdata[3]}')\n",
    "\n"
   ]
  },
  {
   "cell_type": "code",
   "execution_count": 6,
   "metadata": {},
   "outputs": [
    {
     "data": {
      "text/html": [
       "\n",
       "        <iframe\n",
       "            width=\"100%\"\n",
       "            height=\"650\"\n",
       "            src=\"http://127.0.0.1:8001/\"\n",
       "            frameborder=\"0\"\n",
       "            allowfullscreen\n",
       "            \n",
       "        ></iframe>\n",
       "        "
      ],
      "text/plain": [
       "<IPython.lib.display.IFrame at 0x7fe4d8658100>"
      ]
     },
     "metadata": {},
     "output_type": "display_data"
    }
   ],
   "source": [
    "import dash \n",
    "from dash import dash_table\n",
    "from dash import State\n",
    "import reverse_geocoder as rg\n",
    "from dash.dependencies import Input, Output, State, MATCH\n",
    "\n",
    "\n",
    "\n",
    "app = dash.Dash(__name__)\n",
    "\n",
    "# Define the layout of the app\n",
    "app.layout = html.Div([\n",
    "       dcc.Graph(\n",
    "        id='map'\n",
    "    )\n",
    "])\n",
    "\n",
    "\n",
    "def find_nearest_point(lat, lon, df):\n",
    "    point = np.array([[lat, lon]])\n",
    "    distances = cdist(point, df[['lat', 'lon']])\n",
    "    nearest_index = np.argmin(distances)\n",
    "    nearest_point = df.iloc[nearest_index]\n",
    "    return nearest_point\n",
    "\n",
    "\n",
    "\n",
    "# Define the callback function to update the scatter plot based on the dropdown selection\n",
    "\n",
    "@app.callback(\n",
    "    Output('map', 'figure'), \n",
    "    [Input('map', 'clickData')])\n",
    "\n",
    "def update_nearest_hospital(click_data):\n",
    "    if click_data:\n",
    "        point = click_data['points'][0]\n",
    "\n",
    "        lat = point['lat']\n",
    "        lon = point['lon']\n",
    "\n",
    "        nearest_hospital = find_nearest_point(lat, lon, hospitals)\n",
    "        nearest_energy_plant = find_nearest_point(lat, lon, energy_plants)\n",
    "\n",
    "        # Create a new figure with the nearest hospital and energy plant annotations\n",
    "        new_fig = go.Figure(tab1_fig2)\n",
    "\n",
    "        new_fig.add_trace(\n",
    "            go.Scattermapbox(\n",
    "                lat=[lat, nearest_hospital['lat']],\n",
    "                lon=[lon, nearest_hospital['lon']],\n",
    "                mode='lines',\n",
    "                line=dict(color='red', width=2),\n",
    "                hoverinfo='none'\n",
    "            )\n",
    "        )\n",
    "        new_fig.add_trace(\n",
    "            go.Scattermapbox(\n",
    "                lat=[lat, nearest_energy_plant['lat']],\n",
    "                lon=[lon, nearest_energy_plant['lon']],\n",
    "                mode='lines',\n",
    "                line=dict(color='blue', width=2),\n",
    "                hoverinfo='none'\n",
    "            )\n",
    "        )\n",
    "        new_fig.add_trace(\n",
    "            go.Scattermapbox(\n",
    "                lat=[nearest_hospital['lat']],\n",
    "                lon=[nearest_hospital['lon']],\n",
    "                mode='markers',\n",
    "                customdata=np.dstack((nearest_hospital[\"company_name\"], nearest_hospital[\"phone_number\"], nearest_hospital[\"number_of_employees\"], nearest_hospital[\"previous_leaks_n\"], nearest_hospital[\"fossil_fuel_type\"], nearest_hospital[\"number_of_beds\"])),\n",
    "                marker=dict(size=10, color='red'),\n",
    "                hovertemplate='Company Name: %{customdata[0][0]}<br>Company telephone: %{customdata[0][1]}<br>Number of Employees: %{customdata[0][2]}<br>Number of Previous Leaks: %{customdata[0][3]}<br>Fossil Fuel Type: %{customdata[0][4]}<br>Number of Hospital Beds: %{customdata[0][5]}'\n",
    "            )\n",
    "        )\n",
    "        new_fig.add_trace(\n",
    "            go.Scattermapbox(\n",
    "                lat=[nearest_energy_plant['lat']],\n",
    "                lon=[nearest_energy_plant['lon']],\n",
    "                mode='markers',\n",
    "                customdata=np.dstack((nearest_energy_plant[\"company_name\"], nearest_energy_plant[\"phone_number\"], nearest_energy_plant[\"number_of_employees\"], nearest_energy_plant[\"previous_leaks_n\"], nearest_energy_plant[\"fossil_fuel_type\"], nearest_energy_plant[\"number_of_beds\"])),\n",
    "                marker=dict(size=10, color='blue'),\n",
    "                hovertemplate='Company Name: %{customdata[0][0]}<br>Company telephone: %{customdata[0][1]}<br>Number of Employees: %{customdata[0][2]}<br>Number of Previous Leaks: %{customdata[0][3]}<br>Fossil Fuel Type: %{customdata[0][4]}<br>Number of Hospital Beds: %{customdata[0][5]}'\n",
    "            )   \n",
    "        )\n",
    "       # Set the zoom and view location from the previous figure\n",
    "        new_fig.update_layout(mapbox=dict(center=dict(lat=tab1_fig2['layout']['mapbox']['center']['lat'],\n",
    "                                                      lon=tab1_fig2['layout']['mapbox']['center']['lon']),\n",
    "                                               zoom=tab1_fig2['layout']['mapbox']['zoom']))\n",
    "\n",
    "        return new_fig\n",
    "\n",
    "    return tab1_fig2\n",
    "\n",
    "\n",
    "# Run the app\n",
    "if __name__ == '__main__':\n",
    "    app.run_server(debug=True, port=8001)\n",
    "\n"
   ]
  }
 ],
 "metadata": {
  "kernelspec": {
   "display_name": "DashTest",
   "language": "python",
   "name": "python3"
  },
  "language_info": {
   "codemirror_mode": {
    "name": "ipython",
    "version": 3
   },
   "file_extension": ".py",
   "mimetype": "text/x-python",
   "name": "python",
   "nbconvert_exporter": "python",
   "pygments_lexer": "ipython3",
   "version": "3.9.12"
  },
  "orig_nbformat": 4
 },
 "nbformat": 4,
 "nbformat_minor": 2
}
