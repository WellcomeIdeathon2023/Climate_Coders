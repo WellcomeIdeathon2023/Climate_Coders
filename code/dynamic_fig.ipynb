{
 "cells": [
  {
   "attachments": {},
   "cell_type": "markdown",
   "metadata": {},
   "source": [
    "# figure 1: methane over time since 2002"
   ]
  },
  {
   "cell_type": "code",
   "execution_count": 1,
   "metadata": {},
   "outputs": [],
   "source": [
    "import pandas as pd\n",
    "import plotly.express as px\n",
    "\n",
    "# Read the CSV file into a DataFrame\n",
    "df_county = pd.read_csv('/Users/carolinkroeger/Library/CloudStorage/OneDrive-Nexus365/Projekte/Wellcome Ideathon/methane_processing/final_csvs/methane_monthly_county.csv')\n",
    "\n",
    "# Convert 'date' column to datetime data type\n",
    "df_county['date'] = pd.to_datetime(df_county['date'])\n",
    "\n",
    "FipsDF = pd.read_csv('/Users/carolinkroeger/Library/CloudStorage/OneDrive-Nexus365/Projekte/Wellcome Ideathon/methane_processing/data/fips2county.tsv', sep='\\t', header='infer', dtype=str, encoding='latin-1')\n",
    "StateAbbrDF = FipsDF[[\"StateAbbr\", 'StateFIPS', \"StateName\"]].drop_duplicates()\n",
    "\n",
    "df_county = pd.merge(df_county, StateAbbrDF.astype({'StateFIPS': 'int64'}), left_on='STATEFP', right_on='StateFIPS', how='left')\n",
    "df_county['StateName'] = df_county['StateName'].astype('object')\n",
    "df_county = df_county.dropna(subset=['StateName'])\n"
   ]
  },
  {
   "cell_type": "code",
   "execution_count": 2,
   "metadata": {},
   "outputs": [
    {
     "name": "stderr",
     "output_type": "stream",
     "text": [
      "/var/folders/fw/sfmxzmg52fg2gpxsf9nk9x300000gn/T/ipykernel_30288/1049796691.py:4: UserWarning: \n",
      "The dash_core_components package is deprecated. Please replace\n",
      "`import dash_core_components as dcc` with `from dash import dcc`\n",
      "  import dash_core_components as dcc\n",
      "/var/folders/fw/sfmxzmg52fg2gpxsf9nk9x300000gn/T/ipykernel_30288/1049796691.py:5: UserWarning: \n",
      "The dash_html_components package is deprecated. Please replace\n",
      "`import dash_html_components as html` with `from dash import html`\n",
      "  import dash_html_components as html\n"
     ]
    },
    {
     "data": {
      "text/html": [
       "\n",
       "        <iframe\n",
       "            width=\"100%\"\n",
       "            height=\"650\"\n",
       "            src=\"http://127.0.0.1:8050/\"\n",
       "            frameborder=\"0\"\n",
       "            allowfullscreen\n",
       "            \n",
       "        ></iframe>\n",
       "        "
      ],
      "text/plain": [
       "<IPython.lib.display.IFrame at 0x15c1d39d0>"
      ]
     },
     "metadata": {},
     "output_type": "display_data"
    }
   ],
   "source": [
    "import pandas as pd\n",
    "import plotly.express as px\n",
    "import dash\n",
    "import dash_core_components as dcc\n",
    "import dash_html_components as html\n",
    "from dash.dependencies import Input, Output\n",
    "\n",
    "# Convert 'Date' column to datetime data type\n",
    "df_county['date'] = pd.to_datetime(df_county['date'])\n",
    "\n",
    "# Create the Dash app\n",
    "app = dash.Dash(__name__)\n",
    "\n",
    "# Define the layout of the app\n",
    "app.layout = html.Div([\n",
    "    dcc.Dropdown(\n",
    "        id='county-dropdown',\n",
    "        options=[{'label': StateName, 'value': StateName} for StateName in sorted(df_county['StateName'].unique())],\n",
    "        value=None,\n",
    "        placeholder='Select a state',\n",
    "        style={'width': '200px', 'margin-bottom': '20px'}\n",
    "    ),\n",
    "    dcc.Graph(\n",
    "        id='scatter-plot'\n",
    "    )\n",
    "])\n",
    "\n",
    "# Define the callback function to update the scatter plot based on the dropdown selection\n",
    "@app.callback(\n",
    "    Output('scatter-plot', 'figure'),\n",
    "    [Input('county-dropdown', 'value')]\n",
    ")\n",
    "def update_scatter_plot(selected_county):\n",
    "    if selected_county is None:\n",
    "        filtered_df = df_county\n",
    "    else:\n",
    "        filtered_df = df_county[df_county['StateName'] == selected_county]\n",
    "\n",
    "    fig = px.scatter(filtered_df, x='date', y='ch4', color='ch4', trendline='lowess', range_color=[df_county['ch4'].min(), df_county['ch4'].max()])\n",
    "    fig.update_traces(marker=dict(size=5))\n",
    "    fig.update_layout(\n",
    "        xaxis_title='Year',\n",
    "        yaxis_title='Methane ppm',\n",
    "        title='Rising methane emissions in the United States (2003-2021)',\n",
    "        coloraxis_colorbar=dict(title='Methane ppb')\n",
    "    )\n",
    "    \n",
    "    return fig\n",
    "\n",
    "# Run the app\n",
    "if __name__ == '__main__':\n",
    "    app.run_server(debug=True)\n"
   ]
  },
  {
   "attachments": {},
   "cell_type": "markdown",
   "metadata": {},
   "source": [
    "# Figure 2: Methane emissions and daily slider"
   ]
  },
  {
   "cell_type": "code",
   "execution_count": 3,
   "metadata": {},
   "outputs": [],
   "source": [
    "import pandas as pd\n",
    "import geopandas as gpd\n",
    "import plotly.express as px\n",
    "import plotly.graph_objects as go\n",
    "import dash\n",
    "import dash_core_components as dcc\n",
    "import dash_html_components as html\n",
    "from datetime import datetime\n",
    "\n",
    "# Read the data\n",
    "df_daily = pd.read_csv('/Users/carolinkroeger/Library/CloudStorage/OneDrive-Nexus365/Projekte/Wellcome Ideathon/methane_processing/final_csvs/methane_final_lonlat.csv')\n",
    "states = gpd.read_file('/Users/carolinkroeger/Library/CloudStorage/OneDrive-Nexus365/Projekte/Wellcome Ideathon/methane_processing/data/gadm36_USA_shp/gadm36_USA_1.shp')\n",
    "\n",
    "FipsDF = pd.read_csv('/Users/carolinkroeger/Library/CloudStorage/OneDrive-Nexus365/Projekte/Wellcome Ideathon/methane_processing/data/fips2county.tsv', sep='\\t', header='infer', dtype=str, encoding='latin-1')\n",
    "StateAbbrDF = FipsDF[[\"StateAbbr\", 'StateFIPS', \"StateName\"]].drop_duplicates()\n",
    "\n",
    "df_daily = pd.merge(df_daily, StateAbbrDF.astype({'StateFIPS': 'int64'}), left_on='STATEFP', right_on='StateFIPS', how='left')\n",
    "df_daily['StateName'] = df_daily['StateName'].astype('object')\n",
    "df_daily = df_daily.dropna(subset=['StateName'])\n",
    "\n",
    "# Filter and sample the data\n",
    "df_daily['date'] = pd.to_datetime(df_daily['date'])\n",
    "df_daily['day_of_year'] = df_daily['date'].dt.dayofyear\n",
    "df_daily['week_of_year'] = df_daily['date'].dt.isocalendar().week\n",
    "\n",
    "df_filtered = df_daily[df_daily['date'].dt.year == 2019]\n"
   ]
  },
  {
   "cell_type": "code",
   "execution_count": 4,
   "metadata": {},
   "outputs": [
    {
     "data": {
      "text/html": [
       "\n",
       "        <iframe\n",
       "            width=\"100%\"\n",
       "            height=\"650\"\n",
       "            src=\"http://127.0.0.1:8050/\"\n",
       "            frameborder=\"0\"\n",
       "            allowfullscreen\n",
       "            \n",
       "        ></iframe>\n",
       "        "
      ],
      "text/plain": [
       "<IPython.lib.display.IFrame at 0x16baee080>"
      ]
     },
     "metadata": {},
     "output_type": "display_data"
    }
   ],
   "source": [
    "import dash\n",
    "import dash_core_components as dcc\n",
    "import dash_html_components as html\n",
    "import plotly.express as px\n",
    "\n",
    "# Create the Dash application\n",
    "app = dash.Dash(__name__)\n",
    "\n",
    "# Define the layout of the application\n",
    "app.layout = html.Div([\n",
    "    dcc.Graph(id='map-graph'),\n",
    "    html.H3('Select week of the year:'),  # Add the title for the date slider\n",
    "    dcc.Slider(\n",
    "        id='date-slider',\n",
    "        min=df_filtered['week_of_year'].min(),\n",
    "        max=df_filtered['week_of_year'].max(),\n",
    "        value=df_filtered['week_of_year'].min(),\n",
    "        marks={str(week_of_year): str(week_of_year) for week_of_year in df_filtered['week_of_year'].unique()},\n",
    "        step=None\n",
    "    )\n",
    "])\n",
    "\n",
    "# Define the callback function to update the map based on the slider value\n",
    "@app.callback(\n",
    "    dash.dependencies.Output('map-graph', 'figure'),\n",
    "    [dash.dependencies.Input('date-slider', 'value')]\n",
    ")\n",
    "def update_map(selected_date):\n",
    "    filtered_data = df_filtered[df_filtered['week_of_year'] == selected_date]\n",
    "\n",
    "    fig = px.scatter_mapbox(filtered_data, lat='latitude', lon='longitude',\n",
    "                            hover_data=['ch4'], color='ch4', color_continuous_scale='Viridis',\n",
    "                            range_color=[df_filtered['ch4'].min(), df_filtered['ch4'].max()],\n",
    "                            size='ch4', size_max=10, zoom=3)\n",
    "\n",
    "    fig.update_layout(mapbox_style='open-street-map')\n",
    "    fig.update_traces(marker=dict(opacity=0.8))\n",
    "    fig.update_layout(legend=dict(x=0, y=1), margin=dict(l=50, r=50, t=50, b=50))\n",
    "    fig.update_layout(mapbox=dict(center=dict(lat=50, lon=-100), zoom=1.5))\n",
    "    fig.update_layout(title='Methane emissions in the United States, 2019')\n",
    "\n",
    "    return fig\n",
    "\n",
    "# Run the application\n",
    "if __name__ == '__main__':\n",
    "    app.run_server(debug=True)\n"
   ]
  },
  {
   "cell_type": "code",
   "execution_count": 12,
   "metadata": {},
   "outputs": [
    {
     "data": {
      "text/html": [
       "\n",
       "        <iframe\n",
       "            width=\"100%\"\n",
       "            height=\"650\"\n",
       "            src=\"http://127.0.0.1:8050/\"\n",
       "            frameborder=\"0\"\n",
       "            allowfullscreen\n",
       "            \n",
       "        ></iframe>\n",
       "        "
      ],
      "text/plain": [
       "<IPython.lib.display.IFrame at 0x28b3670a0>"
      ]
     },
     "metadata": {},
     "output_type": "display_data"
    }
   ],
   "source": [
    "import dash\n",
    "import dash_core_components as dcc\n",
    "import dash_html_components as html\n",
    "import plotly.express as px\n",
    "\n",
    "# Create the Dash application\n",
    "app = dash.Dash(__name__)\n",
    "\n",
    "# Define the layout of the application\n",
    "app.layout = html.Div([\n",
    "    html.H3('Select state:'),  # Add the title for the dropdown menu\n",
    "    dcc.Dropdown(\n",
    "        id='state-dropdown',\n",
    "        options=sorted([{'label': StateName, 'value': StateName} for StateName in df_filtered['StateName'].unique()], key=lambda x: x['label']),\n",
    "        value=df_filtered['StateName'].unique()[0]\n",
    "    ),\n",
    "    dcc.Graph(id='map-graph'),\n",
    "    html.H3('Select week of the year:'),  # Add the title for the week slider\n",
    "    dcc.Slider(\n",
    "        id='date-slider',\n",
    "        min=df_filtered['week_of_year'].min(),\n",
    "        max=df_filtered['week_of_year'].max(),\n",
    "        value=df_filtered['week_of_year'].min(),\n",
    "        marks={str(week_of_year): str(week_of_year) for week_of_year in df_filtered['week_of_year'].unique()},\n",
    "        step=None\n",
    "    )\n",
    "])\n",
    "\n",
    "# Define the callback function to update the map based on the slider value and selected state\n",
    "@app.callback(\n",
    "    dash.dependencies.Output('map-graph', 'figure'),\n",
    "    [dash.dependencies.Input('date-slider', 'value'),\n",
    "     dash.dependencies.Input('state-dropdown', 'value')]\n",
    ")\n",
    "def update_map(selected_date, selected_state):\n",
    "    filtered_data = df_filtered[(df_filtered['week_of_year'] == selected_date) & (df_filtered['StateName'] == selected_state)]\n",
    "\n",
    "    fig = px.scatter_mapbox(filtered_data, lat='latitude', lon='longitude',\n",
    "                            hover_data=['ch4'], color='ch4', color_continuous_scale='Viridis',\n",
    "                            range_color=[df_filtered['ch4'].min(), df_filtered['ch4'].max()],\n",
    "                            size='ch4', size_max=10, zoom=3)\n",
    "\n",
    "    fig.update_layout(mapbox_style='open-street-map')\n",
    "    fig.update_traces(marker=dict(opacity=0.8))\n",
    "    fig.update_layout(legend=dict(x=0, y=1), margin=dict(l=50, r=50, t=50, b=50))\n",
    "    fig.update_layout(mapbox=dict(center=dict(lat=filtered_data['latitude'].mean(), lon=filtered_data['longitude'].mean()), zoom=4))\n",
    "    fig.update_layout(title='Methane emissions in the United States, 2019')\n",
    "\n",
    "    return fig\n",
    "\n",
    "# Run the application\n",
    "if __name__ == '__main__':\n",
    "    app.run_server(debug=True)\n"
   ]
  },
  {
   "cell_type": "markdown",
   "metadata": {},
   "source": [
    "# figure 3: methane deaths by race"
   ]
  },
  {
   "cell_type": "code",
   "execution_count": 26,
   "metadata": {},
   "outputs": [],
   "source": [
    "import pandas as pd\n",
    "import plotly.express as px\n",
    "import plotly.graph_objects as go\n",
    "\n",
    "methane_df = pd.read_csv('/Users/carolinkroeger/Library/CloudStorage/OneDrive-Nexus365/GitHub/Climate_Coders/data/health_dunja/Race_Methane.txt', delimiter='\\t')\n",
    "\n",
    "county_deaths = methane_df.groupby(['County', 'Single Race 6'])['Deaths'].sum().reset_index()\n",
    "\n",
    "county_deaths['total_deaths'] = county_deaths.groupby('County')['Deaths'].transform('sum')\n",
    "\n",
    "county_deaths['Proportion'] = county_deaths['Deaths'] / county_deaths['total_deaths']\n"
   ]
  },
  {
   "cell_type": "code",
   "execution_count": 27,
   "metadata": {},
   "outputs": [
    {
     "data": {
      "text/html": [
       "\n",
       "        <iframe\n",
       "            width=\"100%\"\n",
       "            height=\"650\"\n",
       "            src=\"http://127.0.0.1:8050/\"\n",
       "            frameborder=\"0\"\n",
       "            allowfullscreen\n",
       "            \n",
       "        ></iframe>\n",
       "        "
      ],
      "text/plain": [
       "<IPython.lib.display.IFrame at 0x16cb17130>"
      ]
     },
     "metadata": {},
     "output_type": "display_data"
    }
   ],
   "source": [
    "import pandas as pd\n",
    "import plotly.express as px\n",
    "import dash\n",
    "import dash_core_components as dcc\n",
    "import dash_html_components as html\n",
    "from dash.dependencies import Input, Output\n",
    "\n",
    "# Create the Dash application\n",
    "app = dash.Dash(__name__)\n",
    "\n",
    "# Define the layout of the application\n",
    "app.layout = html.Div([\n",
    "    dcc.Dropdown(\n",
    "        id='race-dropdown',\n",
    "        options=[{'label': race, 'value': race} for race in county_deaths['Single Race 6'].unique()],\n",
    "        value=None,\n",
    "        placeholder='Select a race'\n",
    "    ),\n",
    "    dcc.Graph(id='scatter-plot')\n",
    "])\n",
    "\n",
    "# Define the callback function to update the scatter plot based on the dropdown selection\n",
    "@app.callback(\n",
    "    Output('scatter-plot', 'figure'),\n",
    "    [Input('race-dropdown', 'value')]\n",
    ")\n",
    "def update_scatter_plot(selected_race):\n",
    "    if selected_race is None:\n",
    "        filtered_df = county_deaths\n",
    "    else:\n",
    "        filtered_df = county_deaths[county_deaths['Single Race 6'] == selected_race]\n",
    "\n",
    "    sorted_df = filtered_df.sort_values(by='Proportion', ascending=False)\n",
    "\n",
    "    fig = px.scatter(sorted_df, x='County', y='Proportion',\n",
    "                     hover_data={'Single Race 6': False, 'Deaths': True},\n",
    "                     labels={'Single Race 6': 'Race', 'Deaths': 'Number of Deaths'})\n",
    "\n",
    "    fig.update_layout(\n",
    "        title='Proportion of Deaths by County',\n",
    "        xaxis_title='County',\n",
    "        yaxis_title='Proportion of Deaths'\n",
    "    )\n",
    "\n",
    "    return fig\n",
    "\n",
    "# Run the application\n",
    "if __name__ == '__main__':\n",
    "    app.run_server(debug=True)\n"
   ]
  }
 ],
 "metadata": {
  "kernelspec": {
   "display_name": "google.trends",
   "language": "python",
   "name": "python3"
  },
  "language_info": {
   "codemirror_mode": {
    "name": "ipython",
    "version": 3
   },
   "file_extension": ".py",
   "mimetype": "text/x-python",
   "name": "python",
   "nbconvert_exporter": "python",
   "pygments_lexer": "ipython3",
   "version": "3.10.7"
  },
  "orig_nbformat": 4
 },
 "nbformat": 4,
 "nbformat_minor": 2
}
