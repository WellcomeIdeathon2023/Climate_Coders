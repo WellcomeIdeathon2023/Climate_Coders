{
 "cells": [
  {
   "cell_type": "code",
   "execution_count": 1,
   "metadata": {},
   "outputs": [
    {
     "name": "stderr",
     "output_type": "stream",
     "text": [
      "2023-07-11 13:56:03,288 INFO Welcome to the CDS\n",
      "2023-07-11 13:56:03,289 INFO Sending request to https://cds.climate.copernicus.eu/api/v2/resources/satellite-methane\n",
      "2023-07-11 13:56:03,560 INFO Request is completed\n",
      "2023-07-11 13:56:03,567 INFO Downloading https://download-0004-clone.copernicus-climate.eu/cache-compute-0004/cache/data3/dataset-satellite-methane-6ce01e3c-4218-47a9-89af-29a9f31211b4.zip to /Users/carolinkroeger/Library/CloudStorage/OneDrive-Nexus365/GitHub/Climate_Coders/data/download.zip (313.8K)\n",
      "2023-07-11 13:56:04,661 INFO Download rate 296.1K/s\n"
     ]
    },
    {
     "data": {
      "text/plain": [
       "Result(content_length=321320,content_type=application/zip,location=https://download-0004-clone.copernicus-climate.eu/cache-compute-0004/cache/data3/dataset-satellite-methane-6ce01e3c-4218-47a9-89af-29a9f31211b4.zip)"
      ]
     },
     "execution_count": 1,
     "metadata": {},
     "output_type": "execute_result"
    }
   ],
   "source": [
    "import cdsapi\n",
    "\n",
    "c = cdsapi.Client()\n",
    "\n",
    "c.retrieve(\n",
    "    'satellite-methane',\n",
    "    {\n",
    "        'processing_level': 'level_2',\n",
    "        'variable': 'ch4',\n",
    "        'sensor_and_algorithm': 'iasi_metop_b_nlis',\n",
    "        'year': '2019',\n",
    "        'month': '07',\n",
    "        'day': '11',\n",
    "        'version': '9.1',\n",
    "        'format': 'zip',\n",
    "    },\n",
    "    '/Users/carolinkroeger/Library/CloudStorage/OneDrive-Nexus365/GitHub/Climate_Coders/data/download.zip')"
   ]
  },
  {
   "cell_type": "markdown",
   "metadata": {},
   "source": [
    "# Test that the code itself runs"
   ]
  },
  {
   "cell_type": "code",
   "execution_count": 1,
   "metadata": {},
   "outputs": [
    {
     "name": "stdout",
     "output_type": "stream",
     "text": [
      "latitude    -1.590000e+00\n",
      "longitude    3.104000e+01\n",
      "ch4          1.841470e+03\n",
      "time         1.562873e+09\n",
      "Name: 10797, dtype: float64\n"
     ]
    }
   ],
   "source": [
    "## Get location \n",
    "\n",
    "from geopy.geocoders import Nominatim\n",
    "\n",
    "# calling the Nominatim tool\n",
    "loc = Nominatim(user_agent=\"GetLoc\")\n",
    "\n",
    "# entering the location name\n",
    "getLoc = loc.geocode(\"my_location\")\n",
    "\n",
    "target_address = getLoc.address\n",
    "target_lon = getLoc.longitude\n",
    "#target_lon = round(target_lon, 2)\n",
    "target_lat = getLoc.latitude\n",
    "#target_lat = round(target_lat, 2)\n",
    "\n",
    "# Find closest methane observation \n",
    "\n",
    "import netCDF4 as nc\n",
    "import pandas as pd\n",
    "from geopy.distance import geodesic\n",
    "\n",
    "# Open the netCDF file\n",
    "nc_file = nc.Dataset('/Users/carolinkroeger/Library/CloudStorage/OneDrive-Nexus365/GitHub/Climate_Coders/data/20190711-C3S-L2_GHG-GHG_PRODUCTS-IASI-METOPB-NLIS-DAILY-v9.1.nc')\n",
    "\n",
    "# Get the required variables from the netCDF file\n",
    "time = nc_file.variables['time'][:]\n",
    "ch4 = nc_file.variables['ch4'][:]\n",
    "lat = nc_file.variables['latitude'][:]\n",
    "lon = nc_file.variables['longitude'][:]\n",
    "\n",
    "# Create a DataFrame\n",
    "df = pd.DataFrame({'latitude': lat, 'longitude': lon, 'ch4': ch4, 'time': time})\n",
    "#df['time'] = pd.to_datetime(df['time'], origin='1970-01-01', unit='D') # ADDED\n",
    "\n",
    "\n",
    "# Function to calculate distance between two points\n",
    "def calculate_distance(lon1, lat1, lon2, lat2):\n",
    "    point1 = (lat1, lon1)\n",
    "    point2 = (lat2, lon2)\n",
    "    distance = geodesic(point1, point2).miles\n",
    "    return distance\n",
    "\n",
    "# Calculate distances between target point and all points in the data frame\n",
    "distances = df.apply(lambda row: calculate_distance(target_lon, target_lat, row['longitude'], row['latitude']), axis=1)\n",
    "\n",
    "# Find the index of the closest point\n",
    "closest_index = distances.idxmin()\n",
    "\n",
    "# Retrieve the closest matching point\n",
    "closest_point = df.loc[closest_index]\n",
    "\n",
    "# Print the result\n",
    "print(closest_point) # target_address, "
   ]
  },
  {
   "cell_type": "markdown",
   "metadata": {},
   "source": [
    "# Do dashboard "
   ]
  },
  {
   "cell_type": "code",
   "execution_count": 2,
   "metadata": {},
   "outputs": [
    {
     "name": "stderr",
     "output_type": "stream",
     "text": [
      "/var/folders/fw/sfmxzmg52fg2gpxsf9nk9x300000gn/T/ipykernel_11568/2802583450.py:2: UserWarning: \n",
      "The dash_core_components package is deprecated. Please replace\n",
      "`import dash_core_components as dcc` with `from dash import dcc`\n",
      "  import dash_core_components as dcc\n",
      "/var/folders/fw/sfmxzmg52fg2gpxsf9nk9x300000gn/T/ipykernel_11568/2802583450.py:3: UserWarning: \n",
      "The dash_html_components package is deprecated. Please replace\n",
      "`import dash_html_components as html` with `from dash import html`\n",
      "  import dash_html_components as html\n"
     ]
    },
    {
     "data": {
      "text/html": [
       "\n",
       "        <iframe\n",
       "            width=\"100%\"\n",
       "            height=\"650\"\n",
       "            src=\"http://127.0.0.1:8050/\"\n",
       "            frameborder=\"0\"\n",
       "            allowfullscreen\n",
       "            \n",
       "        ></iframe>\n",
       "        "
      ],
      "text/plain": [
       "<IPython.lib.display.IFrame at 0x11fd061d0>"
      ]
     },
     "metadata": {},
     "output_type": "display_data"
    }
   ],
   "source": [
    "import dash\n",
    "import dash_core_components as dcc\n",
    "import dash_html_components as html\n",
    "from geopy.geocoders import Nominatim\n",
    "import netCDF4 as nc\n",
    "import pandas as pd\n",
    "from geopy.distance import geodesic\n",
    "\n",
    "# Open the netCDF file\n",
    "nc_file = nc.Dataset('/Users/carolinkroeger/Library/CloudStorage/OneDrive-Nexus365/GitHub/Climate_Coders/data/20190711-C3S-L2_GHG-GHG_PRODUCTS-IASI-METOPB-NLIS-DAILY-v9.1.nc')\n",
    "\n",
    "# Get the required variables from the netCDF file\n",
    "time = nc_file.variables['time'][:]\n",
    "ch4 = nc_file.variables['ch4'][:]\n",
    "lat = nc_file.variables['latitude'][:]\n",
    "lon = nc_file.variables['longitude'][:]\n",
    "\n",
    "# Create a DataFrame\n",
    "df = pd.DataFrame({'latitude': lat, 'longitude': lon, 'ch4': ch4, 'time': time})\n",
    "#df['time'] = pd.to_datetime(df['time'], origin='1970-01-01', unit='D')\n",
    "\n",
    "\n",
    "# Create a Dash app\n",
    "app = dash.Dash(__name__)\n",
    "\n",
    "# Dash layout\n",
    "app.layout = html.Div([\n",
    "    html.H1('Geolocation Dashboard'),\n",
    "    html.Label('Enter a location:'),\n",
    "    dcc.Input(id='location-input', type='text', placeholder='Enter a location'),\n",
    "    html.Div(id='result-output')\n",
    "])\n",
    "\n",
    "# Dash callback\n",
    "@app.callback(\n",
    "    dash.dependencies.Output('result-output', 'children'),\n",
    "    [dash.dependencies.Input('location-input', 'value')]\n",
    ")\n",
    "def update_output(value):\n",
    "    if value:\n",
    "        # calling the Nominatim tool\n",
    "        loc = Nominatim(user_agent=\"GetLoc\")\n",
    "        \n",
    "        # entering the location name\n",
    "        getLoc = loc.geocode(value, timeout=5)\n",
    "\n",
    "        target_address = getLoc.address\n",
    "        target_lon = getLoc.longitude\n",
    "        target_lat = getLoc.latitude\n",
    "\n",
    "        # Function to calculate distance between two points\n",
    "        def calculate_distance(lon1, lat1, lon2, lat2):\n",
    "            point1 = (lat1, lon1)\n",
    "            point2 = (lat2, lon2)\n",
    "            distance = geodesic(point1, point2).miles\n",
    "            return distance\n",
    "\n",
    "        # Calculate distances between target point and all points in the data frame\n",
    "        distances = df.apply(lambda row: calculate_distance(target_lon, target_lat, row['longitude'], row['latitude']), axis=1)\n",
    "\n",
    "        # Find the index of the closest point\n",
    "        closest_index = distances.idxmin()\n",
    "\n",
    "        # Retrieve the closest matching point\n",
    "        closest_point = df.loc[closest_index]\n",
    "        #closest_point['latitude'] = closest_point['latitude'].round(2)\n",
    "        #closest_point['longitude'] = closest_point['longitude'].round(2)\n",
    "        #closest_point['ch4'] = closest_point['ch4'].round(2)\n",
    "\n",
    "        # Return the result\n",
    "        return html.Div([\n",
    "            html.H3('Target Address: {}'.format(target_address)),\n",
    "            html.H4('Closest Point: {}'.format(closest_point))\n",
    "        ])\n",
    "\n",
    "    return ''\n",
    "\n",
    "# Run the app\n",
    "if __name__ == '__main__':\n",
    "    app.run_server(debug=True)"
   ]
  }
 ],
 "metadata": {
  "kernelspec": {
   "display_name": "google.trends",
   "language": "python",
   "name": "python3"
  },
  "language_info": {
   "codemirror_mode": {
    "name": "ipython",
    "version": 3
   },
   "file_extension": ".py",
   "mimetype": "text/x-python",
   "name": "python",
   "nbconvert_exporter": "python",
   "pygments_lexer": "ipython3",
   "version": "3.10.7"
  },
  "orig_nbformat": 4
 },
 "nbformat": 4,
 "nbformat_minor": 2
}
